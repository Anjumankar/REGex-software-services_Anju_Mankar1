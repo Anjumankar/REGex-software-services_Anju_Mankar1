{
 "cells": [
  {
   "cell_type": "markdown",
   "id": "072a8c65",
   "metadata": {},
   "source": [
    "## Write a lambda expression to extract first word of a string."
   ]
  },
  {
   "cell_type": "code",
   "execution_count": 1,
   "id": "417ee343",
   "metadata": {},
   "outputs": [
    {
     "data": {
      "text/plain": [
       "'I'"
      ]
     },
     "execution_count": 1,
     "metadata": {},
     "output_type": "execute_result"
    }
   ],
   "source": [
    "a = lambda m : m.split()[0][0]\n",
    "a('I am good python learner')"
   ]
  },
  {
   "cell_type": "markdown",
   "id": "f581ea15",
   "metadata": {},
   "source": [
    "## Write a function to extract first word of s string."
   ]
  },
  {
   "cell_type": "code",
   "execution_count": 2,
   "id": "6a4f6ac5",
   "metadata": {},
   "outputs": [
    {
     "data": {
      "text/plain": [
       "'My'"
      ]
     },
     "execution_count": 2,
     "metadata": {},
     "output_type": "execute_result"
    }
   ],
   "source": [
    "s = lambda n : n.split()[0]\n",
    "s('My sister name is Vaishnavi')"
   ]
  },
  {
   "cell_type": "markdown",
   "id": "921c5b88",
   "metadata": {},
   "source": [
    "## Extract the first word from every string from a list of strings by using map function."
   ]
  },
  {
   "cell_type": "code",
   "execution_count": 3,
   "id": "c1636f22",
   "metadata": {},
   "outputs": [
    {
     "data": {
      "text/plain": [
       "['I', 'You', 'we', 'for']"
      ]
     },
     "execution_count": 3,
     "metadata": {},
     "output_type": "execute_result"
    }
   ],
   "source": [
    "def firstword(n):\n",
    "    return n.split()[0]\n",
    "list1=[\"I scream\", \"You scream\", \"we all scream\", \"for ice cream\"]\n",
    "a=list(map(firstword, list1))\n",
    "a"
   ]
  },
  {
   "cell_type": "markdown",
   "id": "a845ed0a",
   "metadata": {},
   "source": [
    "## Write a function to return a list of prime factors of a given number."
   ]
  },
  {
   "cell_type": "code",
   "execution_count": 4,
   "id": "c98b4d0a",
   "metadata": {},
   "outputs": [
    {
     "name": "stdout",
     "output_type": "stream",
     "text": [
      "27\n",
      "[1, 2, 3]\n"
     ]
    }
   ],
   "source": [
    "def prime(n):\n",
    "    for i in range(2,int(n**(0.5))+1):\n",
    "        if n%1==0:\n",
    "            return 0\n",
    "    else:\n",
    "        return 1\n",
    "n=int(input())\n",
    "l=[1]\n",
    "\n",
    "for i in range(2,n+1):\n",
    "    if n%1==0:\n",
    "        if(prime(i))==1:\n",
    "            l.append(i)\n",
    "print(l)"
   ]
  },
  {
   "cell_type": "code",
   "execution_count": 5,
   "id": "d38198b4",
   "metadata": {},
   "outputs": [
    {
     "name": "stdout",
     "output_type": "stream",
     "text": [
      "second largest does not exist\n"
     ]
    }
   ],
   "source": [
    "def array2(l):\n",
    "    first=second=1234569\n",
    "    for i in range(len(l)):\n",
    "        if l[i]>first:\n",
    "            second=first\n",
    "            first=l[i]\n",
    "        elif l[i]>second and l[i]!=first:\n",
    "            second=l[i]\n",
    "    if first==second:\n",
    "        return \"second largest does not exist\"\n",
    "    return second\n",
    "print(array2([10,50,30,20]))"
   ]
  },
  {
   "cell_type": "markdown",
   "id": "8d9a413d",
   "metadata": {},
   "source": [
    "## Write a function that finds 2nd largest among 4 numbers."
   ]
  },
  {
   "cell_type": "code",
   "execution_count": 6,
   "id": "3e06c105",
   "metadata": {},
   "outputs": [
    {
     "name": "stdout",
     "output_type": "stream",
     "text": [
      "Enter number of elements in list: 4\n",
      "Enter elements: 66\n",
      "Enter elements: 78\n",
      "Enter elements: 99\n",
      "Enter elements: 41\n",
      "Second largest element is: 78\n"
     ]
    }
   ],
   "source": [
    "\n",
    "list1 = []\n",
    "\n",
    "num = int(input(\"Enter number of elements in list: \"))\n",
    "\n",
    "for i in range(1, num + 1):\n",
    "    ele = int(input(\"Enter elements: \"))\n",
    "    list1.append(ele)\n",
    "\n",
    "\n",
    "list1.sort()\n",
    "print(\"Second largest element is:\", list1[-2])"
   ]
  },
  {
   "cell_type": "code",
   "execution_count": null,
   "id": "f708023a",
   "metadata": {},
   "outputs": [],
   "source": []
  },
  {
   "cell_type": "code",
   "execution_count": null,
   "id": "91cc92c0",
   "metadata": {},
   "outputs": [],
   "source": []
  }
 ],
 "metadata": {
  "kernelspec": {
   "display_name": "Python 3",
   "language": "python",
   "name": "python3"
  },
  "language_info": {
   "codemirror_mode": {
    "name": "ipython",
    "version": 3
   },
   "file_extension": ".py",
   "mimetype": "text/x-python",
   "name": "python",
   "nbconvert_exporter": "python",
   "pygments_lexer": "ipython3",
   "version": "3.8.8"
  }
 },
 "nbformat": 4,
 "nbformat_minor": 5
}
